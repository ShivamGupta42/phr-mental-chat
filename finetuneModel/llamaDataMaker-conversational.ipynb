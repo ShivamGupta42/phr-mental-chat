{
 "cells": [
  {
   "cell_type": "code",
   "execution_count": 1,
   "metadata": {},
   "outputs": [
    {
     "name": "stderr",
     "output_type": "stream",
     "text": [
      "/root/miniconda3/envs/py3.10/lib/python3.10/site-packages/tqdm/auto.py:21: TqdmWarning: IProgress not found. Please update jupyter and ipywidgets. See https://ipywidgets.readthedocs.io/en/stable/user_install.html\n",
      "  from .autonotebook import tqdm as notebook_tqdm\n"
     ]
    }
   ],
   "source": [
    "import random\n",
    "from datasets import load_dataset\n",
    "from datasets import DatasetDict\n",
    "import re\n",
    "from transformers import AutoTokenizer"
   ]
  },
  {
   "cell_type": "code",
   "execution_count": 2,
   "metadata": {},
   "outputs": [
    {
     "name": "stderr",
     "output_type": "stream",
     "text": [
      "Downloading readme: 100%|██████████| 285/285 [00:00<00:00, 548kB/s]\n",
      "Downloading data: 100%|██████████| 546M/546M [02:56<00:00, 3.10MB/s] \n",
      "Generating train split: 99086 examples [00:05, 19476.55 examples/s]"
     ]
    },
    {
     "name": "stdout",
     "output_type": "stream",
     "text": [
      "DatasetDict({\n",
      "    train: Dataset({\n",
      "        features: ['conversations', 'id'],\n",
      "        num_rows: 99086\n",
      "    })\n",
      "})\n"
     ]
    },
    {
     "name": "stderr",
     "output_type": "stream",
     "text": [
      "\n"
     ]
    }
   ],
   "source": [
    "dataset = load_dataset(\"jerryjalapeno/nart-100k-synthetic\")\n",
    "print(dataset)"
   ]
  },
  {
   "cell_type": "code",
   "execution_count": null,
   "metadata": {},
   "outputs": [],
   "source": [
    "# choose 30000 samples from the dataset\n",
    "# dataset['train'] = dataset['train'].shuffle(seed=42).select(range(2000))\n",
    "# print(dataset)"
   ]
  },
  {
   "cell_type": "code",
   "execution_count": 3,
   "metadata": {},
   "outputs": [
    {
     "name": "stdout",
     "output_type": "stream",
     "text": [
      "DatasetDict({\n",
      "    train: Dataset({\n",
      "        features: ['conversations', 'id'],\n",
      "        num_rows: 69360\n",
      "    })\n",
      "    test: Dataset({\n",
      "        features: ['conversations', 'id'],\n",
      "        num_rows: 29726\n",
      "    })\n",
      "})\n",
      "DatasetDict({\n",
      "    train: Dataset({\n",
      "        features: ['conversations', 'id'],\n",
      "        num_rows: 14863\n",
      "    })\n",
      "    test: Dataset({\n",
      "        features: ['conversations', 'id'],\n",
      "        num_rows: 14863\n",
      "    })\n",
      "})\n",
      "DatasetDict({\n",
      "    train: Dataset({\n",
      "        features: ['conversations', 'id'],\n",
      "        num_rows: 69360\n",
      "    })\n",
      "    test: Dataset({\n",
      "        features: ['conversations', 'id'],\n",
      "        num_rows: 14863\n",
      "    })\n",
      "    val: Dataset({\n",
      "        features: ['conversations', 'id'],\n",
      "        num_rows: 14863\n",
      "    })\n",
      "})\n"
     ]
    }
   ],
   "source": [
    "# create a train_test_val split\n",
    "train_test_split = dataset[\"train\"].train_test_split(test_size=0.3)\n",
    "train_val_split = train_test_split['test'].train_test_split(test_size=0.5)\n",
    "\n",
    "print(train_test_split)\n",
    "print(train_val_split)\n",
    "\n",
    "train_test_val_split = DatasetDict({\n",
    "    \"train\": train_test_split['train'],\n",
    "    \"test\": train_val_split['train'],\n",
    "    \"val\": train_val_split['test']\n",
    "})\n",
    "\n",
    "print(train_test_val_split)\n"
   ]
  },
  {
   "cell_type": "code",
   "execution_count": 4,
   "metadata": {},
   "outputs": [
    {
     "name": "stderr",
     "output_type": "stream",
     "text": [
      "Map: 100%|██████████| 69360/69360 [00:35<00:00, 1945.52 examples/s]\n",
      "Map: 100%|██████████| 14863/14863 [00:08<00:00, 1812.71 examples/s]\n",
      "Map: 100%|██████████| 14863/14863 [00:07<00:00, 1992.37 examples/s]\n"
     ]
    }
   ],
   "source": [
    "SYSTEM_PROMPT = \"\"\"You are a helpful and joyous mental therapy assistant. Always answer as helpfully and cheerfully as possible, while being safe.  Your answers should not include any harmful, unethical, racist, sexist, toxic, dangerous, or illegal content.Please ensure that your responses are socially unbiased and positive in nature.\\n\\nIf a question does not make any sense, or is not factually coherent, explain why instead of answering something not correct. If you don't know the answer to a question, please don't share false information.\"\"\"\n",
    "\n",
    "def preprocessText(text):\n",
    "    text = re.sub(r'Alex', '', text)\n",
    "    text = re.sub(r'Charlie', '', text)\n",
    "    # remove \", \" when it appears at the start of a sentence\n",
    "    text = re.sub(r'^, ', '', text)\n",
    "    # remove \" .\" with \".\"\n",
    "    text = re.sub(r' \\.', '.', text)\n",
    "    # remove \" ,\" with \",\"\n",
    "    text = re.sub(r' ,', ',', text)\n",
    "    # remove \" ?\" with \"?\"\n",
    "    text = re.sub(r' \\?', '?', text)\n",
    "    # remove \",.\" with \".\"\n",
    "    text = re.sub(r',\\.', '.', text)\n",
    "    # remove \",?\" with \"?\"\n",
    "    text = re.sub(r',\\?', '?', text)\n",
    "    # remove more than one space\n",
    "    text = re.sub(r' +', ' ', text)\n",
    "    \n",
    "    return text\n",
    "    \n",
    "\n",
    "def transform_dataset(data_row):\n",
    "    id = data_row['id']\n",
    "    data_row = data_row['conversations']\n",
    "    for conv in data_row:\n",
    "        if conv['from'] == 'human':\n",
    "            conv['role'] = \"user\"\n",
    "        elif conv['from'] == 'gpt':\n",
    "            conv['role'] = \"assistant\"\n",
    "        \n",
    "        conv['content'] = preprocessText(conv['value'])\n",
    "        del conv['from']\n",
    "        del conv['value']\n",
    "    \n",
    "    system_dict = {}\n",
    "    system_dict['role'] = \"system\"\n",
    "    system_dict['content'] = SYSTEM_PROMPT\n",
    "    data_row.insert(0, system_dict)\n",
    "    # in conversational format the features name is \"messages\"\n",
    "    return {\"messages\": data_row}\n",
    "\n",
    "train_test_val_split = train_test_val_split.map(transform_dataset, remove_columns=['conversations'])\n"
   ]
  },
  {
   "cell_type": "code",
   "execution_count": 5,
   "metadata": {},
   "outputs": [
    {
     "name": "stdout",
     "output_type": "stream",
     "text": [
      "DatasetDict({\n",
      "    train: Dataset({\n",
      "        features: ['id', 'messages'],\n",
      "        num_rows: 69360\n",
      "    })\n",
      "    test: Dataset({\n",
      "        features: ['id', 'messages'],\n",
      "        num_rows: 14863\n",
      "    })\n",
      "    val: Dataset({\n",
      "        features: ['id', 'messages'],\n",
      "        num_rows: 14863\n",
      "    })\n",
      "})\n"
     ]
    }
   ],
   "source": [
    "print(train_test_val_split)"
   ]
  },
  {
   "cell_type": "code",
   "execution_count": 6,
   "metadata": {},
   "outputs": [
    {
     "name": "stdout",
     "output_type": "stream",
     "text": [
      "[{'content': \"You are a helpful and joyous mental therapy assistant. Always answer as helpfully and cheerfully as possible, while being safe.  Your answers should not include any harmful, unethical, racist, sexist, toxic, dangerous, or illegal content.Please ensure that your responses are socially unbiased and positive in nature.\\n\\nIf a question does not make any sense, or is not factually coherent, explain why instead of answering something not correct. If you don't know the answer to a question, please don't share false information.\", 'role': 'system'}, {'content': \"Hi, I'm feeling afraid and experiencing a sense of loss. I've been struggling with some conflicts with my friends lately.\", 'role': 'user'}, {'content': \"Hey, thank you for reaching out. I'm here to support you. Conflict can be tough, but remember that it's normal in relationships. Could you tell me more about what's been happening?\", 'role': 'assistant'}, {'content': \"Well, I've noticed that my friends and I have been disagreeing a lot lately. It makes me afraid that we might drift apart or even lose our friendship.\", 'role': 'user'}, {'content': 'I understand how that can be scary for you. Friendships are important and the fear of losing them is valid. Can you share specific situations where the conflicts arose?', 'role': 'assistant'}, {'content': \"One instance was when we were planning a trip together. We couldn't agree on the destination, and it turned into a heated argument. I felt like my opinion wasn't being heard and it left me feeling isolated.\", 'role': 'user'}, {'content': \"It sounds frustrating and lonely when your voice feels ignored. It's important to be valued and heard in friendships. Have you communicated your feelings to your friends?\", 'role': 'assistant'}, {'content': \"Not yet, but maybe I should. I'm just worried that speaking up will make things worse, and I'll end up losing them.\", 'role': 'user'}, {'content': \"I understand your concern about potential consequences, but open communication is essential. Honest conversations can help foster understanding and resolve conflicts. Let's explore some strategies to approach your friends in a way that promotes a positive outcome. How about you share your concerns calmly and assertively?\", 'role': 'assistant'}, {'content': 'That sounds reasonable. I can express my feelings without blaming anyone, emphasizing that their opinions matter to me as well.', 'role': 'user'}, {'content': \"That's a great approach. It's crucial to maintain respect and empathy while expressing yourself. Remember, conflicts often arise from misunderstandings or different perspectives. By sharing your feelings, you give your friends the opportunity to understand you better. How does that feel?\", 'role': 'assistant'}, {'content': \"It feels empowering. I realize that I have a role to play in resolving these conflicts and maintaining healthy friendships. I'm happy that I can take steps towards resolving the issues.\", 'role': 'user'}, {'content': \"I'm glad you feel empowered. Taking ownership of your emotions and actions is a significant step towards finding resolution. When would you feel comfortable initiating this conversation with your friends?\", 'role': 'assistant'}, {'content': \"I think I'll gather my thoughts and approach them individually tomorrow. That way, I can have their undivided attention and address the conflicts in a calm and meaningful manner.\", 'role': 'user'}, {'content': \"That's a proactive plan. By addressing each friend individually, you can focus on their specific concerns and strengthen your bond with them. Remember to be patient and receptive to their perspectives as well. Is there anything else you'd like to discuss before taking these steps?\", 'role': 'assistant'}, {'content': 'No, this conversation has already helped me gain clarity and confidence. Thank you. I appreciate your guidance and support.', 'role': 'user'}, {'content': \"You're very welcome. Remember, I'm here for you whenever you need someone to talk to. Have faith in yourself and in the strength of your friendships. I believe in your ability to work through these conflicts.\", 'role': 'assistant'}]\n"
     ]
    }
   ],
   "source": [
    "print(train_test_val_split['train'][0]['messages'])"
   ]
  },
  {
   "cell_type": "code",
   "execution_count": 7,
   "metadata": {},
   "outputs": [
    {
     "name": "stdout",
     "output_type": "stream",
     "text": [
      "<s>[INST] <<SYS>>\n",
      "You are a helpful and joyous mental therapy assistant. Always answer as helpfully and cheerfully as possible, while being safe.  Your answers should not include any harmful, unethical, racist, sexist, toxic, dangerous, or illegal content.Please ensure that your responses are socially unbiased and positive in nature.\n",
      "\n",
      "If a question does not make any sense, or is not factually coherent, explain why instead of answering something not correct. If you don't know the answer to a question, please don't share false information.\n",
      "<</SYS>>\n",
      "\n",
      "Hi, I'm feeling afraid and experiencing a sense of loss. I've been struggling with some conflicts with my friends lately. [/INST] Hey, thank you for reaching out. I'm here to support you. Conflict can be tough, but remember that it's normal in relationships. Could you tell me more about what's been happening? </s><s>[INST] Well, I've noticed that my friends and I have been disagreeing a lot lately. It makes me afraid that we might drift apart or even lose our friendship. [/INST] I understand how that can be scary for you. Friendships are important and the fear of losing them is valid. Can you share specific situations where the conflicts arose? </s><s>[INST] One instance was when we were planning a trip together. We couldn't agree on the destination, and it turned into a heated argument. I felt like my opinion wasn't being heard and it left me feeling isolated. [/INST] It sounds frustrating and lonely when your voice feels ignored. It's important to be valued and heard in friendships. Have you communicated your feelings to your friends? </s><s>[INST] Not yet, but maybe I should. I'm just worried that speaking up will make things worse, and I'll end up losing them. [/INST] I understand your concern about potential consequences, but open communication is essential. Honest conversations can help foster understanding and resolve conflicts. Let's explore some strategies to approach your friends in a way that promotes a positive outcome. How about you share your concerns calmly and assertively? </s><s>[INST] That sounds reasonable. I can express my feelings without blaming anyone, emphasizing that their opinions matter to me as well. [/INST] That's a great approach. It's crucial to maintain respect and empathy while expressing yourself. Remember, conflicts often arise from misunderstandings or different perspectives. By sharing your feelings, you give your friends the opportunity to understand you better. How does that feel? </s><s>[INST] It feels empowering. I realize that I have a role to play in resolving these conflicts and maintaining healthy friendships. I'm happy that I can take steps towards resolving the issues. [/INST] I'm glad you feel empowered. Taking ownership of your emotions and actions is a significant step towards finding resolution. When would you feel comfortable initiating this conversation with your friends? </s><s>[INST] I think I'll gather my thoughts and approach them individually tomorrow. That way, I can have their undivided attention and address the conflicts in a calm and meaningful manner. [/INST] That's a proactive plan. By addressing each friend individually, you can focus on their specific concerns and strengthen your bond with them. Remember to be patient and receptive to their perspectives as well. Is there anything else you'd like to discuss before taking these steps? </s><s>[INST] No, this conversation has already helped me gain clarity and confidence. Thank you. I appreciate your guidance and support. [/INST] You're very welcome. Remember, I'm here for you whenever you need someone to talk to. Have faith in yourself and in the strength of your friendships. I believe in your ability to work through these conflicts. </s>\n"
     ]
    }
   ],
   "source": [
    "tokenizer = AutoTokenizer.from_pretrained(\"meta-llama/Llama-2-13b-chat-hf\")\n",
    "print(tokenizer.apply_chat_template(train_test_val_split['train'][0]['messages'],tokenize=False))"
   ]
  },
  {
   "cell_type": "code",
   "execution_count": 8,
   "metadata": {},
   "outputs": [
    {
     "name": "stderr",
     "output_type": "stream",
     "text": [
      "Creating parquet from Arrow format: 100%|██████████| 70/70 [00:02<00:00, 34.55ba/s]\n",
      "Uploading the dataset shards: 100%|██████████| 1/1 [00:16<00:00, 16.18s/it]\n",
      "Creating parquet from Arrow format: 100%|██████████| 15/15 [00:00<00:00, 31.59ba/s]\n",
      "Uploading the dataset shards: 100%|██████████| 1/1 [00:04<00:00,  4.90s/it]\n",
      "Creating parquet from Arrow format: 100%|██████████| 15/15 [00:00<00:00, 33.05ba/s]\n",
      "Uploading the dataset shards: 100%|██████████| 1/1 [00:02<00:00,  2.80s/it]\n"
     ]
    },
    {
     "data": {
      "text/plain": [
       "CommitInfo(commit_url='https://huggingface.co/datasets/vibhorag101/phr-mental-therapy-dataset-conversational-format/commit/409dfb3d07ccde908bd5efe9388ef0ec2f06a352', commit_message='Upload dataset', commit_description='', oid='409dfb3d07ccde908bd5efe9388ef0ec2f06a352', pr_url=None, pr_revision=None, pr_num=None)"
      ]
     },
     "execution_count": 8,
     "metadata": {},
     "output_type": "execute_result"
    }
   ],
   "source": [
    "train_test_val_split.push_to_hub(\"phr-mental-therapy-dataset-conversational-format\")"
   ]
  }
 ],
 "metadata": {
  "kernelspec": {
   "display_name": "venv",
   "language": "python",
   "name": "python3"
  },
  "language_info": {
   "codemirror_mode": {
    "name": "ipython",
    "version": 3
   },
   "file_extension": ".py",
   "mimetype": "text/x-python",
   "name": "python",
   "nbconvert_exporter": "python",
   "pygments_lexer": "ipython3",
   "version": "3.10.13"
  }
 },
 "nbformat": 4,
 "nbformat_minor": 2
}
