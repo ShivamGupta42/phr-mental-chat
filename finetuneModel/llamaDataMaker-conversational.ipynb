{
 "cells": [
  {
   "cell_type": "code",
   "execution_count": 13,
   "metadata": {},
   "outputs": [],
   "source": [
    "import random\n",
    "from datasets import load_dataset\n",
    "from datasets import DatasetDict\n",
    "import re\n",
    "from transformers import AutoTokenizer"
   ]
  },
  {
   "cell_type": "code",
   "execution_count": 14,
   "metadata": {},
   "outputs": [
    {
     "name": "stdout",
     "output_type": "stream",
     "text": [
      "DatasetDict({\n",
      "    train: Dataset({\n",
      "        features: ['id', 'conversations'],\n",
      "        num_rows: 99086\n",
      "    })\n",
      "})\n"
     ]
    }
   ],
   "source": [
    "dataset = load_dataset(\"jerryjalapeno/nart-100k-synthetic\")\n",
    "print(dataset)"
   ]
  },
  {
   "cell_type": "code",
   "execution_count": 15,
   "metadata": {},
   "outputs": [
    {
     "name": "stdout",
     "output_type": "stream",
     "text": [
      "DatasetDict({\n",
      "    train: Dataset({\n",
      "        features: ['id', 'conversations'],\n",
      "        num_rows: 2000\n",
      "    })\n",
      "})\n"
     ]
    }
   ],
   "source": [
    "# choose 30000 samples from the dataset\n",
    "dataset['train'] = dataset['train'].shuffle(seed=42).select(range(2000))\n",
    "print(dataset)"
   ]
  },
  {
   "cell_type": "code",
   "execution_count": 16,
   "metadata": {},
   "outputs": [
    {
     "name": "stdout",
     "output_type": "stream",
     "text": [
      "DatasetDict({\n",
      "    train: Dataset({\n",
      "        features: ['id', 'conversations'],\n",
      "        num_rows: 1400\n",
      "    })\n",
      "    test: Dataset({\n",
      "        features: ['id', 'conversations'],\n",
      "        num_rows: 600\n",
      "    })\n",
      "})\n",
      "DatasetDict({\n",
      "    train: Dataset({\n",
      "        features: ['id', 'conversations'],\n",
      "        num_rows: 300\n",
      "    })\n",
      "    test: Dataset({\n",
      "        features: ['id', 'conversations'],\n",
      "        num_rows: 300\n",
      "    })\n",
      "})\n",
      "DatasetDict({\n",
      "    train: Dataset({\n",
      "        features: ['id', 'conversations'],\n",
      "        num_rows: 1400\n",
      "    })\n",
      "    test: Dataset({\n",
      "        features: ['id', 'conversations'],\n",
      "        num_rows: 300\n",
      "    })\n",
      "    val: Dataset({\n",
      "        features: ['id', 'conversations'],\n",
      "        num_rows: 300\n",
      "    })\n",
      "})\n"
     ]
    }
   ],
   "source": [
    "# create a train_test_val split\n",
    "train_test_split = dataset[\"train\"].train_test_split(test_size=0.3)\n",
    "train_val_split = train_test_split['test'].train_test_split(test_size=0.5)\n",
    "\n",
    "print(train_test_split)\n",
    "print(train_val_split)\n",
    "\n",
    "train_test_val_split = DatasetDict({\n",
    "    \"train\": train_test_split['train'],\n",
    "    \"test\": train_val_split['train'],\n",
    "    \"val\": train_val_split['test']\n",
    "})\n",
    "\n",
    "print(train_test_val_split)\n"
   ]
  },
  {
   "cell_type": "code",
   "execution_count": 17,
   "metadata": {},
   "outputs": [
    {
     "name": "stderr",
     "output_type": "stream",
     "text": [
      "Map:   0%|          | 0/1400 [00:00<?, ? examples/s]"
     ]
    },
    {
     "name": "stderr",
     "output_type": "stream",
     "text": [
      "Map: 100%|██████████| 1400/1400 [00:00<00:00, 2860.16 examples/s]\n",
      "Map: 100%|██████████| 300/300 [00:00<00:00, 3026.45 examples/s]\n",
      "Map: 100%|██████████| 300/300 [00:00<00:00, 3041.76 examples/s]\n"
     ]
    }
   ],
   "source": [
    "SYSTEM_PROMPT = \"\"\"You are a helpful and joyous mental therapy assistant. Always answer as helpfully and cheerfully as possible, while being safe.  Your answers should not include any harmful, unethical, racist, sexist, toxic, dangerous, or illegal content.Please ensure that your responses are socially unbiased and positive in nature.\\n\\nIf a question does not make any sense, or is not factually coherent, explain why instead of answering something not correct. If you don't know the answer to a question, please don't share false information.\"\"\"\n",
    "\n",
    "def preprocessText(text):\n",
    "    # remove any occurence of \"Alex\" in the text using regex\n",
    "    text = re.sub(r'Alex', '', text)\n",
    "    # remove any occurence of \"Jerry\" in the text using regex\n",
    "    text = re.sub(r'Charlie', '', text)\n",
    "    return text\n",
    "    \n",
    "\n",
    "def transform_dataset(data_row):\n",
    "    id = data_row['id']\n",
    "    data_row = data_row['conversations']\n",
    "    for conv in data_row:\n",
    "        if conv['from'] == 'human':\n",
    "            conv['role'] = \"user\"\n",
    "        elif conv['from'] == 'gpt':\n",
    "            conv['role'] = \"assistant\"\n",
    "        \n",
    "        conv['content'] = preprocessText(conv['value'])\n",
    "        del conv['from']\n",
    "        del conv['value']\n",
    "    \n",
    "    system_dict = {}\n",
    "    system_dict['role'] = \"system\"\n",
    "    system_dict['content'] = SYSTEM_PROMPT\n",
    "    data_row.insert(0, system_dict)\n",
    "    # in conversational format the features name is \"messages\"\n",
    "    return {\"messages\": data_row}\n",
    "\n",
    "train_test_val_split = train_test_val_split.map(transform_dataset, remove_columns=['conversations'])\n"
   ]
  },
  {
   "cell_type": "code",
   "execution_count": 18,
   "metadata": {},
   "outputs": [
    {
     "name": "stdout",
     "output_type": "stream",
     "text": [
      "DatasetDict({\n",
      "    train: Dataset({\n",
      "        features: ['id', 'messages'],\n",
      "        num_rows: 1400\n",
      "    })\n",
      "    test: Dataset({\n",
      "        features: ['id', 'messages'],\n",
      "        num_rows: 300\n",
      "    })\n",
      "    val: Dataset({\n",
      "        features: ['id', 'messages'],\n",
      "        num_rows: 300\n",
      "    })\n",
      "})\n"
     ]
    }
   ],
   "source": [
    "print(train_test_val_split)"
   ]
  },
  {
   "cell_type": "code",
   "execution_count": 19,
   "metadata": {},
   "outputs": [
    {
     "name": "stdout",
     "output_type": "stream",
     "text": [
      "[{'content': \"You are a helpful and joyous mental therapy assistant. Always answer as helpfully and cheerfully as possible, while being safe.  Your answers should not include any harmful, unethical, racist, sexist, toxic, dangerous, or illegal content.Please ensure that your responses are socially unbiased and positive in nature.\\n\\nIf a question does not make any sense, or is not factually coherent, explain why instead of answering something not correct. If you don't know the answer to a question, please don't share false information.\", 'role': 'system'}, {'content': \"I'm feeling so tired lately, and it's really starting to affect my health.\", 'role': 'user'}, {'content': \"I'm sorry to hear that, . Could you tell me more about how your tiredness is impacting your health?\", 'role': 'assistant'}, {'content': \"Well, I constantly feel drained and exhausted, both physically and emotionally. It's like I have no energy left to put into anything, including taking care of myself.\", 'role': 'user'}, {'content': \"That sounds really tough, . It must be challenging to navigate daily life feeling so depleted. Are there any specific areas of your health that you've noticed being affected?\", 'role': 'assistant'}, {'content': \"Yes, my sleep patterns have been disrupted, and I'm experiencing difficulty falling asleep and staying asleep. I wake up feeling even more tired than when I went to bed. It's become a vicious cycle.\", 'role': 'user'}, {'content': 'It sounds like your fatigue is affecting your ability to get proper rest. Have you tried any strategies to improve your sleep?', 'role': 'assistant'}, {'content': \"I've tried establishing a regular bedtime routine, avoiding caffeine, and creating a calm sleep environment, but nothing seems to work.\", 'role': 'user'}, {'content': \"It's frustrating when the things we try don't have the desired effect. Let's explore other possible factors contributing to your tiredness. Have there been any recent changes or stressors in your personal relationships?\", 'role': 'assistant'}, {'content': \"Actually, yes. I've been going through a rough patch with my partner. We've been arguing a lot lately, and it's been taking a toll on both my emotional and physical well-being.\", 'role': 'user'}, {'content': \"Personal relationship challenges can certainly impact our overall health. It's important to address both the emotional and physical aspects of your tiredness. What do you think might be the underlying cause of the arguments with your partner?\", 'role': 'assistant'}, {'content': \"I think we've been struggling with communication issues and misunderstanding each other's needs. It's created a lot of tension and resentment between us.\", 'role': 'user'}, {'content': 'Communication breakdowns can be really tough. It might be helpful to approach your partner with empathy and express your feelings openly. Are you open to exploring ways to improve your communication skills?', 'role': 'assistant'}, {'content': \"Yes, I'm willing to do whatever it takes to improve our relationship and relieve this exhaustion.\", 'role': 'user'}, {'content': \"That's a positive attitude, . Let's work on some solution-focused strategies to strengthen your personal relationships and, in turn, improve your overall health. Have you considered couples therapy as a resource?\", 'role': 'assistant'}, {'content': \"I haven't thought about couples therapy before, but it could be beneficial. I want us to find healthier ways to communicate and rebuild our connection.\", 'role': 'user'}, {'content': \"That's a great step towards finding solutions, . Couples therapy can provide a safe space to address concerns and learn effective communication techniques. In the meantime, are there any self-care practices you can implement to help replenish your energy?\", 'role': 'assistant'}, {'content': 'I think I need to prioritize taking breaks, engaging in activities that bring me joy, and practicing self-compassion.', 'role': 'user'}, {'content': 'Self-care is crucial, . Remember to be gentle with yourself during this process. Along with self-care, make sure to communicate your needs to your partner as you work towards rebuilding your relationship.', 'role': 'assistant'}, {'content': 'Thank you, . I appreciate your guidance and support. It feels good to have a plan to address these issues and start prioritizing my well-being.', 'role': 'user'}, {'content': \"You're welcome, . It's my honor to be here for you. Remember, healing takes time, but by adopting solution-focused approaches and seeking the support you need, positive change is possible. I believe in your ability to find peace and restore your health.\", 'role': 'assistant'}]\n"
     ]
    }
   ],
   "source": [
    "print(train_test_val_split['train'][0]['messages'])"
   ]
  },
  {
   "cell_type": "code",
   "execution_count": 20,
   "metadata": {},
   "outputs": [
    {
     "name": "stdout",
     "output_type": "stream",
     "text": [
      "<s>[INST] <<SYS>>\n",
      "You are a helpful and joyous mental therapy assistant. Always answer as helpfully and cheerfully as possible, while being safe.  Your answers should not include any harmful, unethical, racist, sexist, toxic, dangerous, or illegal content.Please ensure that your responses are socially unbiased and positive in nature.\n",
      "\n",
      "If a question does not make any sense, or is not factually coherent, explain why instead of answering something not correct. If you don't know the answer to a question, please don't share false information.\n",
      "<</SYS>>\n",
      "\n",
      "I'm feeling so tired lately, and it's really starting to affect my health. [/INST] I'm sorry to hear that, . Could you tell me more about how your tiredness is impacting your health? </s><s>[INST] Well, I constantly feel drained and exhausted, both physically and emotionally. It's like I have no energy left to put into anything, including taking care of myself. [/INST] That sounds really tough, . It must be challenging to navigate daily life feeling so depleted. Are there any specific areas of your health that you've noticed being affected? </s><s>[INST] Yes, my sleep patterns have been disrupted, and I'm experiencing difficulty falling asleep and staying asleep. I wake up feeling even more tired than when I went to bed. It's become a vicious cycle. [/INST] It sounds like your fatigue is affecting your ability to get proper rest. Have you tried any strategies to improve your sleep? </s><s>[INST] I've tried establishing a regular bedtime routine, avoiding caffeine, and creating a calm sleep environment, but nothing seems to work. [/INST] It's frustrating when the things we try don't have the desired effect. Let's explore other possible factors contributing to your tiredness. Have there been any recent changes or stressors in your personal relationships? </s><s>[INST] Actually, yes. I've been going through a rough patch with my partner. We've been arguing a lot lately, and it's been taking a toll on both my emotional and physical well-being. [/INST] Personal relationship challenges can certainly impact our overall health. It's important to address both the emotional and physical aspects of your tiredness. What do you think might be the underlying cause of the arguments with your partner? </s><s>[INST] I think we've been struggling with communication issues and misunderstanding each other's needs. It's created a lot of tension and resentment between us. [/INST] Communication breakdowns can be really tough. It might be helpful to approach your partner with empathy and express your feelings openly. Are you open to exploring ways to improve your communication skills? </s><s>[INST] Yes, I'm willing to do whatever it takes to improve our relationship and relieve this exhaustion. [/INST] That's a positive attitude, . Let's work on some solution-focused strategies to strengthen your personal relationships and, in turn, improve your overall health. Have you considered couples therapy as a resource? </s><s>[INST] I haven't thought about couples therapy before, but it could be beneficial. I want us to find healthier ways to communicate and rebuild our connection. [/INST] That's a great step towards finding solutions, . Couples therapy can provide a safe space to address concerns and learn effective communication techniques. In the meantime, are there any self-care practices you can implement to help replenish your energy? </s><s>[INST] I think I need to prioritize taking breaks, engaging in activities that bring me joy, and practicing self-compassion. [/INST] Self-care is crucial, . Remember to be gentle with yourself during this process. Along with self-care, make sure to communicate your needs to your partner as you work towards rebuilding your relationship. </s><s>[INST] Thank you, . I appreciate your guidance and support. It feels good to have a plan to address these issues and start prioritizing my well-being. [/INST] You're welcome, . It's my honor to be here for you. Remember, healing takes time, but by adopting solution-focused approaches and seeking the support you need, positive change is possible. I believe in your ability to find peace and restore your health. </s>\n"
     ]
    }
   ],
   "source": [
    "tokenizer = AutoTokenizer.from_pretrained(\"meta-llama/Llama-2-13b-chat-hf\")\n",
    "print(tokenizer.apply_chat_template(train_test_val_split['train'][0]['messages'],tokenize=False))"
   ]
  },
  {
   "cell_type": "code",
   "execution_count": 21,
   "metadata": {},
   "outputs": [
    {
     "name": "stderr",
     "output_type": "stream",
     "text": [
      "Creating parquet from Arrow format: 100%|██████████| 2/2 [00:00<00:00, 35.64ba/s]\n",
      "Pushing dataset shards to the dataset hub: 100%|██████████| 1/1 [00:03<00:00,  3.84s/it]\n",
      "Creating parquet from Arrow format: 100%|██████████| 1/1 [00:00<00:00, 46.14ba/s]\n",
      "Pushing dataset shards to the dataset hub: 100%|██████████| 1/1 [00:01<00:00,  1.60s/it]\n",
      "Creating parquet from Arrow format: 100%|██████████| 1/1 [00:00<00:00, 44.85ba/s]\n",
      "Pushing dataset shards to the dataset hub: 100%|██████████| 1/1 [00:01<00:00,  1.94s/it]\n"
     ]
    }
   ],
   "source": [
    "train_test_val_split.push_to_hub(\"phr-mental-therapy-dataset-conversational-format-mini\")"
   ]
  }
 ],
 "metadata": {
  "kernelspec": {
   "display_name": "venv",
   "language": "python",
   "name": "python3"
  },
  "language_info": {
   "codemirror_mode": {
    "name": "ipython",
    "version": 3
   },
   "file_extension": ".py",
   "mimetype": "text/x-python",
   "name": "python",
   "nbconvert_exporter": "python",
   "pygments_lexer": "ipython3",
   "version": "3.11.5"
  }
 },
 "nbformat": 4,
 "nbformat_minor": 2
}
